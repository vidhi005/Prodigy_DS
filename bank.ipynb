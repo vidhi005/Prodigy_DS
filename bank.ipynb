{
 "cells": [
  {
   "cell_type": "code",
   "execution_count": null,
   "metadata": {},
   "outputs": [],
   "source": [
    "import zipfile\n",
    "import os\n",
    "\n",
    "def extract_zip(zip_file_path, output_folder):\n",
    "    with zipfile.ZipFile(zip_file_path, 'r') as zip_ref:\n",
    "        zip_ref.extractall(output_folder)\n",
    "\n",
    "zip_file_path = '/content/bank-marketing-uci.zip'\n",
    "output_folder = '/content/Bank Marketing'\n",
    "extract_zip(zip_file_path, output_folder)"
   ]
  },
  {
   "cell_type": "code",
   "execution_count": null,
   "metadata": {},
   "outputs": [],
   "source": [
    "import os\n",
    "import json, pickle\n",
    "import numpy as np\n",
    "\n",
    "# importing libraries for data structuring and analysis (visualization)\n",
    "import pandas as pd\n",
    "import seaborn as sns\n",
    "import matplotlib.pyplot as plt\n",
    "\n",
    "# importing warnings to avoid warnings \n",
    "import warnings\n",
    "warnings.filterwarnings(\"ignore\")\n",
    "\n",
    "# importing scaler and encoders\n",
    "from sklearn.preprocessing import OneHotEncoder, StandardScaler, LabelEncoder\n",
    "\n",
    "# importing randomised cross validation and train test split (for data seperation)\n",
    "from sklearn.model_selection import train_test_split, RandomizedSearchCV\n",
    "\n",
    "# Importing Models\n",
    "from sklearn.linear_model import LogisticRegression\n",
    "from sklearn.neighbors import KNeighborsClassifier\n",
    "from sklearn.ensemble import RandomForestClassifier\n",
    "from sklearn.ensemble import AdaBoostClassifier\n",
    "from xgboost import XGBClassifier\n",
    "\n",
    "# importing performance metrixes \n",
    "from sklearn.metrics import accuracy_score, precision_recall_curve,classification_report,roc_curve\n",
    "from sklearn.metrics import confusion_matrix, plot_roc_curve, roc_auc_score\n",
    "\n",
    "# to export models and json file for production\n",
    "import json,pickle\n",
    "from statsmodels.stats.outliers_influence import variance_inflation_factor\n",
    "from sklearn.feature_selection import mutual_info_classif, chi2, f_classif, VarianceThreshold\n",
    "#from skfeature.function.similarity_based import fisher_score\n",
    "\n",
    "# importing SMOTE to resample data(balancing the data)\n",
    "from imblearn.over_sampling import SMOTE\n",
    "\n",
    "# setting to display max columns \n",
    "pd.set_option(\"display.max_columns\",None)"
   ]
  },
  {
   "cell_type": "code",
   "execution_count": null,
   "metadata": {},
   "outputs": [],
   "source": [
    "data= pd.read_csv(\"bank.csv\",sep=\";\")\n",
    "print(data.shape)\n",
    "data.head(2)\n",
    "df= data.copy()\n",
    "df.head()\n",
    "df.info()\n",
    "df.describe()"
   ]
  },
  {
   "cell_type": "code",
   "execution_count": null,
   "metadata": {},
   "outputs": [],
   "source": [
    "df.duplicated().sum()\n",
    "df.isnull().sum()\n",
    "df[\"y\"].value_counts()"
   ]
  },
  {
   "cell_type": "code",
   "execution_count": null,
   "metadata": {},
   "outputs": [],
   "source": [
    "def get_counts(data):\n",
    "    plt.figure(figsize = (15,5))\n",
    "    plt.ylabel(\"Counts\",fontsize = 10)\n",
    "    return  data.value_counts().plot(kind = \"bar\",cmap='summer')\n",
    "    plt.show()"
   ]
  },
  {
   "cell_type": "code",
   "execution_count": null,
   "metadata": {},
   "outputs": [],
   "source": [
    "_ = df[\"age\"]\n",
    "_ = pd.cut(_,bins = [18,35,60,90],labels = [\"young\",\"mid-age\",\"old\"])\n",
    "get_counts(_)\n",
    "plt.xlabel(\"Age\",fontsize = 13)"
   ]
  },
  {
   "cell_type": "code",
   "execution_count": null,
   "metadata": {},
   "outputs": [],
   "source": [
    "get_counts(df[\"job\"])\n",
    "plt.xlabel(\"Job\",fontsize = 13)"
   ]
  },
  {
   "cell_type": "code",
   "execution_count": null,
   "metadata": {},
   "outputs": [],
   "source": [
    "get_counts(df[\"marital\"])\n",
    "plt.xlabel(\"Merital Status\",fontsize = 13)"
   ]
  },
  {
   "cell_type": "code",
   "execution_count": null,
   "metadata": {},
   "outputs": [],
   "source": [
    "get_counts(df[\"education\"])\n",
    "plt.xlabel(\"Education\",fontsize = 13)"
   ]
  },
  {
   "cell_type": "code",
   "execution_count": null,
   "metadata": {},
   "outputs": [],
   "source": [
    "get_counts(df[\"default\"])\n",
    "plt.xlabel(\"Credit in default\",fontsize = 13)"
   ]
  },
  {
   "cell_type": "code",
   "execution_count": null,
   "metadata": {},
   "outputs": [],
   "source": [
    "def get_distribution(data):\n",
    "    fig, axes = plt.subplots(1, 2, figsize=(16,4))\n",
    "    sns.distplot(data, hist = False,ax = axes[0],color=\"r\")\n",
    "    sns.boxplot(data,ax = axes[1],color=\"g\")\n",
    "    return plt.show()"
   ]
  },
  {
   "cell_type": "code",
   "execution_count": null,
   "metadata": {},
   "outputs": [],
   "source": [
    "get_distribution(df[\"age\"])"
   ]
  },
  {
   "cell_type": "code",
   "execution_count": null,
   "metadata": {},
   "outputs": [],
   "source": [
    "get_distribution(df[\"balance\"])"
   ]
  },
  {
   "cell_type": "code",
   "execution_count": null,
   "metadata": {},
   "outputs": [],
   "source": [
    "get_distribution(df[\"previous\"])"
   ]
  },
  {
   "cell_type": "code",
   "execution_count": null,
   "metadata": {},
   "outputs": [],
   "source": [
    "for i,predictor in enumerate(df.drop(columns=['y','age','campaign','previous', 'balance', 'duration','pdays'])):\n",
    "    plt.figure(i)\n",
    "    sns.countplot(data=df, x=predictor, hue='y')"
   ]
  },
  {
   "cell_type": "code",
   "execution_count": null,
   "metadata": {},
   "outputs": [],
   "source": [
    "_ = df.groupby(\"y\").mean()[\"age\"]\n",
    "print(_)\n",
    "_.plot(kind = \"bar\", cmap = \"summer\")   "
   ]
  },
  {
   "cell_type": "code",
   "execution_count": null,
   "metadata": {},
   "outputs": [],
   "source": [
    "df.pivot_table(values = \"age\", columns = \"y\",index = \"job\",aggfunc=\"mean\")"
   ]
  },
  {
   "cell_type": "code",
   "execution_count": null,
   "metadata": {},
   "outputs": [],
   "source": [
    "sns.catplot(data = df, x = \"job\", y = \"age\",\n",
    "            hue = \"y\", jitter = 0.1, aspect = 2.3,height = 5)"
   ]
  },
  {
   "cell_type": "code",
   "execution_count": null,
   "metadata": {},
   "outputs": [],
   "source": [
    "sns.catplot(data = df, x = \"marital\", y = \"age\",\n",
    "            hue = \"y\", jitter = 0.1, aspect = 1.5,height = 5)"
   ]
  },
  {
   "cell_type": "code",
   "execution_count": null,
   "metadata": {},
   "outputs": [],
   "source": [
    "df.groupby([\"housing\",\"loan\"],as_index=False)[\"age\"].mean()"
   ]
  },
  {
   "cell_type": "code",
   "execution_count": null,
   "metadata": {},
   "outputs": [],
   "source": [
    "sns.pairplot(data = df.drop(\"y\",axis = 1))"
   ]
  },
  {
   "cell_type": "code",
   "execution_count": null,
   "metadata": {},
   "outputs": [],
   "source": [
    "df.groupby([\"marital\",\"y\"])[\"age\"].count().plot(kind = \"bar\",cmap = \"rainbow\" )"
   ]
  },
  {
   "cell_type": "code",
   "execution_count": null,
   "metadata": {},
   "outputs": [],
   "source": [
    "df1 = df.copy()"
   ]
  },
  {
   "cell_type": "code",
   "execution_count": null,
   "metadata": {},
   "outputs": [],
   "source": [
    "df1.drop([\"day\",\"month\"],axis =1, inplace = True)   "
   ]
  },
  {
   "cell_type": "code",
   "execution_count": null,
   "metadata": {},
   "outputs": [],
   "source": [
    "for i in df1.columns:\n",
    "    df1[i] = np.where(df1[i] == \"unknown\", np.nan, df1[i])\n",
    "df1.isna().sum()"
   ]
  },
  {
   "cell_type": "code",
   "execution_count": null,
   "metadata": {},
   "outputs": [],
   "source": [
    "(3705/df1.poutcome.shape[0])*100    "
   ]
  },
  {
   "cell_type": "code",
   "execution_count": null,
   "metadata": {},
   "outputs": [],
   "source": [
    "(1324/df1.contact.shape[0])*100"
   ]
  },
  {
   "cell_type": "code",
   "execution_count": null,
   "metadata": {},
   "outputs": [],
   "source": [
    "df1.drop(\"poutcome\", inplace = True, axis = 1)"
   ]
  },
  {
   "cell_type": "code",
   "execution_count": null,
   "metadata": {},
   "outputs": [],
   "source": [
    "df1.drop(\"contact\", inplace = True, axis = 1)"
   ]
  },
  {
   "cell_type": "code",
   "execution_count": null,
   "metadata": {},
   "outputs": [],
   "source": [
    "df1[\"job\"].fillna(method = \"ffill\",inplace=True)\n",
    "df1[\"education\"].fillna(method = \"ffill\",inplace= True)"
   ]
  },
  {
   "cell_type": "code",
   "execution_count": null,
   "metadata": {},
   "outputs": [],
   "source": [
    "df1[\"education\"].replace({'primary':0, 'secondary':1, 'tertiary':2},inplace = True)\n",
    "df1[\"default\"].replace({'no':0, 'yes':1},inplace = True)\n",
    "df1[\"marital\"].replace({'single':0, 'married':1, 'divorced':2},inplace = True)\n",
    "df1[\"housing\"].replace({'no':0, 'yes':1},inplace = True)\n",
    "df1[\"loan\"].replace({'no':0, 'yes':1},inplace = True)"
   ]
  },
  {
   "cell_type": "code",
   "execution_count": null,
   "metadata": {},
   "outputs": [],
   "source": [
    "ohe = OneHotEncoder()\n",
    "df1[list(df1[\"job\"].unique())] = ohe.fit_transform(df1[[\"job\"]]).A\n",
    "df1.drop(\"job\",axis = 1, inplace = True)\n",
    "df1.head(1)"
   ]
  },
  {
   "cell_type": "code",
   "execution_count": null,
   "metadata": {},
   "outputs": [],
   "source": [
    "label = LabelEncoder()\n",
    "df1[\"y\"] =  label.fit_transform(df1[\"y\"])\n",
    "df1.head(1)"
   ]
  },
  {
   "cell_type": "code",
   "execution_count": null,
   "metadata": {},
   "outputs": [],
   "source": [
    "_ = df1[['age', 'marital', 'education', 'default', 'balance', 'housing', 'loan',\n",
    "       'duration', 'campaign', 'pdays', 'previous']]\n",
    "vif_lst = []\n",
    "for i in range(_.shape[1]):\n",
    "    vif = variance_inflation_factor(_.to_numpy(),i)\n",
    "    vif_lst.append(vif)\n",
    "s1 = pd.Series(vif_lst, index = _.columns)\n",
    "s1.sort_values().plot(kind = \"barh\", cmap = \"summer\")"
   ]
  },
  {
   "cell_type": "code",
   "execution_count": null,
   "metadata": {},
   "outputs": [],
   "source": [
    "var_th = VarianceThreshold(threshold = 0.0)\n",
    "var_th.fit_transform(_)\n",
    "s = pd.Series(var_th.get_support(),index = _.columns)\n",
    "s"
   ]
  },
  {
   "cell_type": "code",
   "execution_count": null,
   "metadata": {},
   "outputs": [],
   "source": [
    "_temp = df1[['marital', 'education', 'default', 'housing', 'loan',\n",
    "        'campaign', 'previous']]\n",
    "chi, p_val = chi2(_temp,df1[\"y\"])\n",
    "s = pd.DataFrame({\"Chi2\":np.around(chi,2), \"P_val\": np.around(p_val,2)}, index = _temp.columns)\n",
    "s"
   ]
  },
  {
   "cell_type": "code",
   "execution_count": null,
   "metadata": {},
   "outputs": [],
   "source": [
    "_temp = df1[['age', 'balance', 'duration', 'pdays']]\n",
    "f_val,p_val = f_classif(_temp,df1[\"y\"])\n",
    "pd.DataFrame({\"F_Val\": np.around(f_val,2), \"P_val\": np.around(p_val,2)},index = _temp.columns)"
   ]
  },
  {
   "cell_type": "code",
   "execution_count": null,
   "metadata": {},
   "outputs": [],
   "source": [
    "df1.drop(\"marital\",inplace = True,axis=1)"
   ]
  },
  {
   "cell_type": "code",
   "execution_count": null,
   "metadata": {},
   "outputs": [],
   "source": [
    "x = df1.drop(\"y\",axis = 1)\n",
    "y = df1[\"y\"]\n",
    "\n",
    "sm = SMOTE(sampling_strategy=0.75)\n",
    "sm_x,sm_y = sm.fit_resample(x,y)\n",
    "print(f\"First we have the value counts:\\n{y.value_counts()}\\n\\nAfter OverSampling now we have value counts:\\n{sm_y.value_counts()}\")"
   ]
  },
  {
   "cell_type": "code",
   "execution_count": null,
   "metadata": {},
   "outputs": [],
   "source": [
    "x_train,x_test,y_train,y_test = train_test_split(sm_x,sm_y, test_size=0.2, random_state=42, stratify=sm_y)"
   ]
  },
  {
   "cell_type": "code",
   "execution_count": null,
   "metadata": {},
   "outputs": [],
   "source": [
    "std = StandardScaler()\n",
    "arr = std.fit_transform(x_train)\n",
    "std_x = pd.DataFrame(arr, columns = x_train.columns)\n",
    "std_x.head()"
   ]
  },
  {
   "cell_type": "code",
   "execution_count": null,
   "metadata": {},
   "outputs": [],
   "source": [
    "arr1 = std.transform(x_test)\n",
    "std_x_te = pd.DataFrame(arr1, columns = x_test.columns)\n",
    "std_x_te.head()"
   ]
  },
  {
   "cell_type": "code",
   "execution_count": null,
   "metadata": {},
   "outputs": [],
   "source": [
    "lst = [(\"LogisticRegression\",LogisticRegression()),\n",
    "       (\"KNN Classifier\", KNeighborsClassifier()),\n",
    "       (\"RandomForest\",RandomForestClassifier()),\n",
    "      (\"AdaBoost\",AdaBoostClassifier()),\n",
    "      (\"XGBoost\",XGBClassifier())]\n",
    "for name,model in lst:\n",
    "    model.fit(std_x,y_train)\n",
    "    y1 = model.predict(std_x)\n",
    "    accuracy = accuracy_score(y_train,y1)\n",
    "    y2 = model.predict(std_x_te)\n",
    "    acc_te = accuracy_score(y_test,y2)\n",
    "    print(f\"For {name}::\\nThe Training Accuracy is: {accuracy}\\nThe Testing Accuracy is: {acc_te}\")\n",
    "    print(\"--\"*40)"
   ]
  },
  {
   "cell_type": "code",
   "execution_count": null,
   "metadata": {},
   "outputs": [],
   "source": [
    "estimator = XGBClassifier()\n",
    "parameters = {\"n_estimators\": [50,100,150,200,250,300,350,400],\n",
    "             \"max_depth\": np.arange(2,10),\n",
    "             \"learning_rate\": np.arange(0.01,0.1,0.02),\n",
    "             'subsample': np.arange(0.5, 1.0, 0.1),\n",
    "             'colsample_bytree': np.arange(0.4, 1.0, 0.1),\n",
    "             'colsample_bylevel': np.arange(0.4, 1.0, 0.1)}\n",
    "rscv = RandomizedSearchCV(estimator, parameters, cv = 5, random_state= 42)\n",
    "rscv.fit(std_x,y_train)\n",
    "rscv.best_params_"
   ]
  },
  {
   "cell_type": "code",
   "execution_count": null,
   "metadata": {},
   "outputs": [],
   "source": [
    "xgb = XGBClassifier(subsample = 0.7, n_estimators = 150,\n",
    "                    max_depth = 8, learning_rate = 0.09,\n",
    "                    colsample_bytree = 0.7, colsample_bylevel = 0.8)\n",
    "xgb.fit(std_x,y_train)"
   ]
  },
  {
   "cell_type": "code",
   "execution_count": null,
   "metadata": {},
   "outputs": [],
   "source": [
    "y_pr_train = xgb.predict(std_x)\n",
    "acc_train = accuracy_score(y_train,y_pr_train)\n",
    "class_re = classification_report(y_train,y_pr_train)\n",
    "con_mat = confusion_matrix(y_train,y_pr_train)\n",
    "print(\"Confusion Matrix:\\n\",con_mat)\n",
    "print(\"\\n\")\n",
    "print(\"The accuracy of the model:\",(acc_train)*100)\n",
    "print(\"\\n\")\n",
    "print(\"The classification report:\\n\",class_re)"
   ]
  },
  {
   "cell_type": "code",
   "execution_count": null,
   "metadata": {},
   "outputs": [],
   "source": [
    "y_pr_test = xgb.predict(std_x_te)\n",
    "acc_test = accuracy_score(y_test,y_pr_test)\n",
    "class_re1 = classification_report(y_test,y_pr_test)\n",
    "con_mat1 = confusion_matrix(y_test,y_pr_test)\n",
    "print(\"Confusion Matrix:\\n\",con_mat1)\n",
    "print(\"\\n\")\n",
    "print(\"The accuracy of the model:\",(acc_test)*100)\n",
    "print(\"\\n\")\n",
    "print(\"The classification report:\\n\",class_re1)"
   ]
  },
  {
   "cell_type": "code",
   "execution_count": null,
   "metadata": {},
   "outputs": [],
   "source": [
    "s = pd.Series(xgb.feature_importances_,sm_x.columns)\n",
    "s.sort_values().plot(kind = \"barh\",cmap = \"summer\")"
   ]
  },
  {
   "cell_type": "code",
   "execution_count": null,
   "metadata": {},
   "outputs": [],
   "source": [
    "y_prob = xgb.predict_proba(std_x_te)\n",
    "y_pr   = y_prob[:,1]\n",
    "auc_score = roc_auc_score(y_test, y_pr)\n",
    "fpr,tpr,threshold = roc_curve(y_test,y_pr)\n",
    "plt.plot(fpr,tpr, \"r\")\n",
    "plt.text(1, 0.02, 'AUC = %0.3f' % auc_score, ha='right', fontsize=12,weight='bold', color='green')\n",
    "plt.fill_between(fpr, tpr, facecolor='orange', alpha=0.3)\n",
    "plt.xlabel(\"False Positive Rate\")\n",
    "plt.ylabel(\"True Positive Rate\")\n",
    "plt.title(\"ROC - AUC CURVE\")\n",
    "plt.show()"
   ]
  },
  {
   "cell_type": "code",
   "execution_count": null,
   "metadata": {},
   "outputs": [],
   "source": [
    "with open(\"Standerd_scaling.pkl\", \"wb\") as f:\n",
    "    pickle.dump(std, f)\n",
    "with open(\"xgb_model.pkl\", \"wb\") as f:\n",
    "    pickle.dump(xgb, f)"
   ]
  },
  {
   "cell_type": "code",
   "execution_count": null,
   "metadata": {},
   "outputs": [],
   "source": [
    "def plot_history(history):\n",
    "  fig, (ax1, ax2) = plt.subplots(1, 2, figsize=(10, 4))\n",
    "  ax1.plot(history.history['loss'], label='loss')\n",
    "  ax1.plot(history.history['val_loss'], label='val_loss')\n",
    "  ax1.set_xlabel('Epoch')\n",
    "  ax1.set_ylabel('Binary crossentropy')\n",
    "  ax1.grid(True)\n",
    "\n",
    "  ax2.plot(history.history['accuracy'], label='accuracy')\n",
    "  ax2.plot(history.history['val_accuracy'], label='val_accuracy')\n",
    "  ax2.set_xlabel('Epoch')\n",
    "  ax2.set_ylabel('Accuracy')\n",
    "  ax2.grid(True)\n",
    "\n",
    "  plt.show()"
   ]
  },
  {
   "cell_type": "code",
   "execution_count": null,
   "metadata": {},
   "outputs": [],
   "source": [
    "nn_model = tf.keras.Sequential([\n",
    "      tf.keras.layers.Dense(30, activation='relu', input_shape=(14,)),\n",
    "      tf.keras.layers.Dropout(0.2),\n",
    "      tf.keras.layers.Dense(50, activation='relu'),\n",
    "      tf.keras.layers.Dropout(0.2),\n",
    "      tf.keras.layers.Dense(1, activation='sigmoid')\n",
    "  ])\n",
    "\n",
    "nn_model.compile(optimizer=tf.keras.optimizers.Adam(0.01), loss='binary_crossentropy',\n",
    "                  metrics=['accuracy'])"
   ]
  },
  {
   "cell_type": "code",
   "execution_count": null,
   "metadata": {},
   "outputs": [],
   "source": [
    "nn_model.summary()"
   ]
  },
  {
   "cell_type": "code",
   "execution_count": null,
   "metadata": {},
   "outputs": [],
   "source": [
    "history=nn_model.fit(X_train,y_train,epochs=100,validation_split=0.2,verbose=0)\n",
    "y_pred=nn_model.predict(X_valid)\n",
    "y_pred = (y_pred > 0.5).astype(int).reshape(-1,)\n",
    "print(classification_report(y_valid, y_pred))"
   ]
  },
  {
   "cell_type": "code",
   "execution_count": null,
   "metadata": {},
   "outputs": [],
   "source": [
    "def train_model(X_train, y_train, num_nodes, dropout_prob, lr, epochs):\n",
    "  nn_model = tf.keras.Sequential([\n",
    "      tf.keras.layers.Dense(num_nodes, activation='relu', input_shape=(14,)),\n",
    "      tf.keras.layers.Dropout(dropout_prob),\n",
    "      tf.keras.layers.Dense(num_nodes, activation='relu'),\n",
    "      tf.keras.layers.Dropout(dropout_prob),\n",
    "      tf.keras.layers.Dense(1, activation='sigmoid')\n",
    "  ])\n",
    "\n",
    "  nn_model.compile(optimizer=tf.keras.optimizers.Adam(lr), loss='binary_crossentropy',\n",
    "                  metrics=['accuracy'])\n",
    "  history = nn_model.fit(\n",
    "    X_train, y_train, epochs=epochs, validation_split=0.2, verbose=0\n",
    "  )\n",
    "\n",
    "  return nn_model, history"
   ]
  },
  {
   "cell_type": "code",
   "execution_count": null,
   "metadata": {},
   "outputs": [],
   "source": [
    "least_val_loss = float('inf')\n",
    "least_loss_model = None\n",
    "epochs=100\n",
    "for num_nodes in [16, 32, 64]:\n",
    "  for dropout_prob in[0, 0.2]:\n",
    "    for lr in [0.01, 0.005, 0.001]:\n",
    "        print(f\"{num_nodes} nodes, dropout {dropout_prob}, lr {lr}\")\n",
    "        model, history = train_model(X_train, y_train, num_nodes, dropout_prob, lr, epochs)\n",
    "        plot_history(history)\n",
    "        val_loss = model.evaluate(X_valid, y_valid)[0]\n",
    "        if val_loss < least_val_loss:\n",
    "          least_val_loss = val_loss\n",
    "          least_loss_model = model"
   ]
  },
  {
   "cell_type": "code",
   "execution_count": null,
   "metadata": {},
   "outputs": [],
   "source": [
    "y_pred = least_loss_model.predict(X_valid)\n",
    "y_pred = (y_pred > 0.5).astype(int).reshape(-1,)\n",
    "print(classification_report(y_valid, y_pred))\n",
    "least_loss_model.summary()\n",
    "least_loss_model.get_config()"
   ]
  }
 ],
 "metadata": {
  "language_info": {
   "name": "python"
  }
 },
 "nbformat": 4,
 "nbformat_minor": 2
}
